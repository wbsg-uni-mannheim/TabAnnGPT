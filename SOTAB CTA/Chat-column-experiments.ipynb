{
 "cells": [
  {
   "cell_type": "code",
   "execution_count": 1,
   "id": "307f1685",
   "metadata": {},
   "outputs": [],
   "source": [
    "import os\n",
    "import re\n",
    "import pickle\n",
    "import numpy as np\n",
    "import pandas as pd\n",
    "from dotenv import dotenv_values\n",
    "from langchain import PromptTemplate, LLMChain, OpenAI\n",
    "from langchain.chat_models import ChatOpenAI\n",
    "from langchain.schema import SystemMessage, HumanMessage, AIMessage"
   ]
  },
  {
   "cell_type": "code",
   "execution_count": 2,
   "id": "b3076071",
   "metadata": {},
   "outputs": [],
   "source": [
    "# Load env file with API KEY using full path\n",
    "config = dotenv_values(\"../.env\")\n",
    "os.environ['OPENAI_API_KEY'] = config[\"OPENAI_API_KEY\"]\n",
    "OPENAI_API_KEY = config[\"OPENAI_API_KEY\"]"
   ]
  },
  {
   "cell_type": "code",
   "execution_count": 19,
   "id": "806f5b40",
   "metadata": {},
   "outputs": [],
   "source": [
    "\"\"\" labels_to_text = {\n",
    "    \"I dont'know\": \"I dont'know\",\n",
    "    \"addressLocality\": \"locality of address\",\n",
    "    \"postalCode\": \"postal code\",\n",
    "    \"addressRegion\": \"region of address\",\n",
    "    \"Country\": \"country\",\n",
    "    \"priceRange\": \"price range\",\n",
    "    \"Hotel/name\": \"name of hotel\",\n",
    "    \"telephone\": \"telephone\",\n",
    "    \"faxNumber\": \"fax number\",\n",
    "    \"Date\": \"date\",\n",
    "    \"Restaurant/name\": \"name of restaurant\",\n",
    "    \"paymentAccepted\": \"payment accepted\",\n",
    "    \"DayOfWeek\": \"day of week\",\n",
    "    \"Review\": \"review\",\n",
    "    \"Organization\": \"organization\",\n",
    "    \"DateTime\": \"date and time\",\n",
    "    \"MusicAlbum/name\": \"name of music album\",\n",
    "    \"MusicArtistAT\": \"music artist\",\n",
    "    \"MusicRecording/name\": \"name of music recording\",\n",
    "    \"Photograph\": \"photograph\",\n",
    "    \"CoordinateAT\": \"coordinate\",\n",
    "    \"Event/name\": \"name of event\",\n",
    "    \"EventAttendanceModeEnumeration\": \"event attendance mode\",\n",
    "    \"EventStatusType\": \"event status\",\n",
    "    \"currency\": \"currency\",\n",
    "    \"email\": \"email\",\n",
    "    \"Time\": \"time\",\n",
    "    \"LocationFeatureSpecification\": \"location feature\",\n",
    "    \"Duration\": \"duration\",\n",
    "    \"Event/description\": \"description of event\",\n",
    "    \"Restaurant/description\": \"description of restaurant\",\n",
    "    \"Rating\": \"rating\",\n",
    "    \"Hotel/description\": \"description of hotel\"\n",
    "} \"\"\""
   ]
  },
  {
   "cell_type": "code",
   "execution_count": 30,
   "id": "45ed42dd",
   "metadata": {},
   "outputs": [],
   "source": [
    "labels_to_text = {\n",
    "    \"I dont'know\": \"I dont'know\",\n",
    "    \"Date\": \"date\",\n",
    "    \"Book/name\": \"name of book\",\n",
    "    \"Language\": \"language\",\n",
    "    \"Person/name\": \"name of person\",\n",
    "    \"BookFormatType\": \"book format type\",\n",
    "    \"OfferItemCondition\": \"offer item condition\",\n",
    "    \"ItemAvailability\": \"item availability\",\n",
    "    \"price\": \"price\",\n",
    "    \"currency\": \"currency\",\n",
    "    \"Review\": \"review\",\n",
    "    \"Number\": \"number\",\n",
    "    \"IdentifierAT\": \"identifier\",\n",
    "    \"URL\": \"url\",\n",
    "    \"Place/name\": \"name of place\",\n",
    "    \"Event/name\": \"name of event\",\n",
    "    \"EventStatusType\": \"event status\",\n",
    "    \"EventAttendanceModeEnumeration\": \"event attendance mode\",\n",
    "    \"telephone\": \"telephone\",\n",
    "    \"email\": \"email\",\n",
    "    \"category\": \"category\",\n",
    "    \"Duration\": \"duration\",\n",
    "    \"streetAddress\": \"street address\",\n",
    "    \"addressLocality\": \"locality of address\",\n",
    "    \"LocalBusiness/name\": \"name of local business\",\n",
    "    \"priceRange\": \"price range\",\n",
    "    \"openingHours\": \"opening hours\",\n",
    "    \"faxNumber\": \"fax number\",\n",
    "    \"Country\": \"country\",\n",
    "    \"postalCode\": \"postal code\",\n",
    "    \"addressRegion\": \"region of address\",\n",
    "    \"Photograph\": \"photograph\",\n",
    "    \"Movie/name\": \"name of movie\",\n",
    "    \"Rating\": \"rating\",\n",
    "    \"MusicArtistAT\": \"music artist\",\n",
    "    \"MusicAlbum/name\": \"name of music album\",\n",
    "    \"MusicRecording/name\": \"name of music recording\",\n",
    "    \"weight\": \"weight\",\n",
    "    \"GenderType\": \"gender type\",\n",
    "    \"Product/name\": \"name of product\",\n",
    "    \"DeliveryMethod\": \"delivery method\",\n",
    "    \"Organization\": \"organization\",\n",
    "    \"Book/description\": \"description of book\",\n",
    "    \"CreativeWork\": \"creative work\",\n",
    "    \"Boolean\": \"boolean\",\n",
    "    \"DateTime\": \"date and time\",\n",
    "    \"CreativeWork/name\": \"name of creative work\",\n",
    "    \"Event/description\": \"description of event\",\n",
    "    \"PostalAddress\": \"postal address\",\n",
    "    \"Time\": \"time\",\n",
    "    \"Hotel/name\": \"name of hotel\",\n",
    "    \"CoordinateAT\": \"coordinate\",\n",
    "    \"Hotel/description\": \"description of hotel\",\n",
    "    \"LocationFeatureSpecification\": \"location feature\",\n",
    "    \"paymentAccepted\": \"payment accepted\",\n",
    "    \"Brand\": \"brand\",\n",
    "    \"MonetaryAmount\": \"monetary amount\",\n",
    "    \"JobPosting/name\": \"name of job posting\",\n",
    "    \"OccupationalExperienceRequirements\": \"occupational experience requirements\",\n",
    "    \"EducationalOccupationalCredential\": \"educational occupational credential\",\n",
    "    \"workHours\": \"work hours\",\n",
    "    \"CategoryCode\": \"category code\",\n",
    "    \"JobPosting/description\": \"description of job posting\",\n",
    "    \"DayOfWeek\": \"day of week\",\n",
    "    \"Movie/description\": \"description of movie\",\n",
    "    \"Museum/name\": \"name of museum\",\n",
    "    \"ItemList\": \"item list\",\n",
    "    \"Distance\": \"distance\",\n",
    "    \"unitCode\": \"unit code\",\n",
    "    \"ProductModel\": \"product model\",\n",
    "    \"unitText\": \"unit text\",\n",
    "    \"QuantitativeValue\": \"quantitative value\",\n",
    "    \"Product/description\": \"description of product\",\n",
    "    \"Recipe/name\": \"name of recipe\",\n",
    "    \"Mass\": \"mass\",\n",
    "    \"Energy\": \"energy\",\n",
    "    \"RestrictedDiet\": \"restricted diet\",\n",
    "    \"Recipe/description\": \"description of recipe\",\n",
    "    \"Restaurant/name\": \"name of restaurant\",\n",
    "    \"SportsEvent/name\": \"name of sports event\",\n",
    "    \"SportsTeam\": \"sports team\",\n",
    "    \"TVEpisode/name\": \"name of TV episode\",\n",
    "    \"CreativeWorkSeries\": \"creative work series\"\n",
    "}"
   ]
  },
  {
   "cell_type": "code",
   "execution_count": 32,
   "id": "47c58fb8",
   "metadata": {},
   "outputs": [
    {
     "data": {
      "text/plain": [
       "83"
      ]
     },
     "execution_count": 32,
     "metadata": {},
     "output_type": "execute_result"
    }
   ],
   "source": [
    "len(labels_to_text)"
   ]
  },
  {
   "cell_type": "code",
   "execution_count": 21,
   "id": "554900cb",
   "metadata": {},
   "outputs": [],
   "source": [
    "# Dictionary to map ChatGPT answers to label set: synonyms can be added here\n",
    "\"\"\" text_to_label = {\n",
    "    \"locality of address\": \"addressLocality\",\n",
    "    \"postal code\": \"postalCode\",\n",
    "    \"region of address\": \"addressRegion\",\n",
    "    \"country\": \"Country\",\n",
    "    \"price range\": \"priceRange\",\n",
    "    \"name of hotel\": \"Hotel/name\",\n",
    "    \"telephone\": \"telephone\",\n",
    "    \"fax number\": \"faxNumber\",\n",
    "    \"date\": \"Date\",\n",
    "    \"name of restaurant\": \"Restaurant/name\",\n",
    "    \"payment accepted\": \"paymentAccepted\",\n",
    "    \"day of week\": \"DayOfWeek\",\n",
    "    \"review\": \"Review\",\n",
    "    \"organization\": \"Organization\",\n",
    "    \"date and time\": \"DateTime\",\n",
    "    \"music artist\": \"MusicArtistAT\",\n",
    "    \"music album\": \"MusicAlbum/name\",\n",
    "    \"name of music recording\": \"MusicRecording/name\",\n",
    "    \"photograph\": \"Photograph\",\n",
    "    \"coordinate\": \"CoordinateAT\",\n",
    "    \"name of event\": \"Event/name\",\n",
    "    \"event attendance mode\": \"EventAttendanceModeEnumeration\",\n",
    "    \"event status\": \"EventStatusType\",\n",
    "    \"currency\": \"currency\",\n",
    "    \"email\": \"email\",\n",
    "    \"time\": \"Time\",\n",
    "    \"location feature\": \"LocationFeatureSpecification\",\n",
    "    \"duration\": \"Duration\",\n",
    "    \"description of event\": \"Event/description\",\n",
    "    \"description of restaurant\": \"Restaurant/description\",\n",
    "    \"description of hotel\": \"Hotel/description\",\n",
    "    \"rating\": \"Rating\",\n",
    "    #Added\n",
    "    \"description of restaurants\": \"Restaurant/description\",\n",
    "    \"name of music artist\": \"MusicArtistAT\",\n",
    "    \"description of hotel amenities\": \"LocationFeatureSpecification\",\n",
    "    \"amenities\": \"LocationFeatureSpecification\",\n",
    "    \"name of album\": \"MusicAlbum/name\",\n",
    "    \"i don't know\": \"-\",\n",
    "    \"name of music album\": \"MusicAlbum/name\",\n",
    "    \"music recording\": \"MusicRecording/name\",\n",
    "    \"event name\": \"Event/name\",\n",
    "    \"description of hotels\": \"Hotel/description\",\n",
    "    \"name of hotels\": \"Hotel/name\",\n",
    "    \"duration of music recording or video\": \"Duration\",\n",
    "    \"name of organization\": \"Organization\",\n",
    "    \"hotel amenities\": \"LocationFeatureSpecification\",\n",
    "    \"amenities of hotel room\": \"LocationFeatureSpecification\",\n",
    "    \"check-in time\": \"Time\",\n",
    "    \"check-out time\": \"Time\",\n",
    "    \"time of check-in\": \"Time\",\n",
    "    \"time of check-out\": \"Time\",\n",
    "    \"hotel features\": \"LocationFeatureSpecification\",\n",
    "    \"name of aparthotel\": \"Hotel/name\",\n",
    "    \"event description\": \"Event/description\",\n",
    "    \"email address\": \"email\",\n",
    "    \"room amenities\": \"LocationFeatureSpecification\",\n",
    "    \"end date\": \"Date\",\n",
    "    \"descriptions of events\": \"Event/description\",\n",
    "    \"mode of attendance\": \"EventAttendanceModeEnumeration\",\n",
    "    \"name of song\": \"MusicRecording/name\"\n",
    "} \"\"\""
   ]
  },
  {
   "cell_type": "code",
   "execution_count": 33,
   "id": "51f7f356",
   "metadata": {},
   "outputs": [],
   "source": [
    "# Dictionary to map ChatGPT answers to label set: synonyms can be added here\n",
    "text_to_label = {\n",
    "    \"i don't know\": \"-\",\n",
    "    \"date\": \"Date\",\n",
    "    \"name of book\": \"Book/name\",\n",
    "    \"language\": \"Language\",\n",
    "    \"name of person\": \"Person/name\",\n",
    "    \"book format type\": \"BookFormatType\",\n",
    "    \"offer item condition\": \"OfferItemCondition\",\n",
    "    \"item availability\": \"ItemAvailability\",\n",
    "    \"price\": \"price\",\n",
    "    \"currency\": \"currency\",\n",
    "    \"review\": \"Review\",\n",
    "    \"number\": \"Number\",\n",
    "    \"identifier\": \"IdentifierAT\",\n",
    "    \"url\": \"URL\",\n",
    "    \"name of place\": \"Place/name\",\n",
    "    \"name of event\": \"Event/name\",\n",
    "    \"event status\": \"EventStatusType\",\n",
    "    \"event attendance mode\": \"EventAttendanceModeEnumeration\",\n",
    "    \"telephone\": \"telephone\",\n",
    "    \"email\": \"email\",\n",
    "    \"category\": \"category\",\n",
    "    \"duration\": \"Duration\",\n",
    "    \"street address\": \"streetAddress\",\n",
    "    \"locality of address\": \"addressLocality\",\n",
    "    \"name of local business\": \"LocalBusiness/name\",\n",
    "    \"price range\": \"priceRange\",\n",
    "    \"opening hours\": \"openingHours\",\n",
    "    \"fax number\": \"faxNumber\",\n",
    "    \"country\": \"Country\",\n",
    "    \"postal code\": \"postalCode\",\n",
    "    \"region of address\": \"addressRegion\",\n",
    "    \"photograph\": \"Photograph\",\n",
    "    \"name of movie\": \"Movie/name\",\n",
    "    \"rating\": \"Rating\",\n",
    "    \"music artist\": \"MusicArtistAT\",\n",
    "    \"name of music album\": \"MusicAlbum/name\",\n",
    "    \"name of music recording\": \"MusicRecording/name\",\n",
    "    \"weight\": \"weight\",\n",
    "    \"gender type\": \"GenderType\",\n",
    "    \"name of product\": \"Product/name\",\n",
    "    \"delivery method\": \"DeliveryMethod\",\n",
    "    \"organization\": \"Organization\",\n",
    "    \"description of book\": \"Book/description\",\n",
    "    \"creative work\": \"CreativeWork\",\n",
    "    \"boolean\": \"Boolean\",\n",
    "    \"date and time\": \"DateTime\",\n",
    "    \"name of creative work\": \"CreativeWork/name\",\n",
    "    \"description of event\": \"Event/description\",\n",
    "    \"postal address\": \"PostalAddress\",\n",
    "    \"time\": \"Time\",\n",
    "    \"name of hotel\": \"Hotel/name\",\n",
    "    \"coordinate\": \"CoordinateAT\",\n",
    "    \"description of hotel\": \"Hotel/description\",\n",
    "    \"location feature\": \"LocationFeatureSpecification\",\n",
    "    \"payment accepted\": \"paymentAccepted\",\n",
    "    \"brand\": \"Brand\",\n",
    "    \"monetary amount\": \"MonetaryAmount\",\n",
    "    \"name of job posting\": \"JobPosting/name\",\n",
    "    \"occupational experience requirements\": \"OccupationalExperienceRequirements\",\n",
    "    \"educational occupational credential\": \"EducationalOccupationalCredential\",\n",
    "    \"work hours\": \"workHours\",\n",
    "    \"category code\": \"CategoryCode\",\n",
    "    \"description of job posting\": \"JobPosting/description\",\n",
    "    \"day of week\": \"DayOfWeek\",\n",
    "    \"description of movie\": \"Movie/description\",\n",
    "    \"name of museum\": \"Museum/name\",\n",
    "    \"item list\": \"ItemList\",\n",
    "    \"distance\": \"Distance\",\n",
    "    \"unit code\": \"unitCode\",\n",
    "    \"product model\": \"ProductModel\",\n",
    "    \"unit text\": \"unitText\",\n",
    "    \"quantitative value\": \"QuantitativeValue\",\n",
    "    \"description of product\": \"Product/description\",\n",
    "    \"name of recipe\": \"Recipe/name\",\n",
    "    \"mass\": \"Mass\",\n",
    "    \"energy\": \"Energy\",\n",
    "    \"restricted diet\": \"RestrictedDiet\",\n",
    "    \"description of recipe\": \"Recipe/description\",\n",
    "    \"name of restaurant\": \"Restaurant/name\",\n",
    "    \"name of sports event\": \"SportsEvent/name\",\n",
    "    \"sports team\": \"SportsTeam\",\n",
    "    \"name of TV episode\": \"TVEpisode/name\",\n",
    "    \"creative work series\": \"CreativeWorkSeries\"\n",
    "}"
   ]
  },
  {
   "cell_type": "code",
   "execution_count": 34,
   "id": "e0225fa5",
   "metadata": {},
   "outputs": [
    {
     "data": {
      "text/plain": [
       "83"
      ]
     },
     "execution_count": 34,
     "metadata": {},
     "output_type": "execute_result"
    }
   ],
   "source": [
    "len(text_to_label)"
   ]
  },
  {
   "cell_type": "code",
   "execution_count": null,
   "id": "1c7af95c",
   "metadata": {},
   "outputs": [],
   "source": [
    "df = pd.read_csv(\"sotab_v2_cta_training_set.csv\")\n",
    "list_of_labels = df['label'].unique()\n",
    "print(list_of_labels)\n",
    "len(list_of_labels)"
   ]
  },
  {
   "cell_type": "markdown",
   "id": "9359aafc",
   "metadata": {},
   "source": [
    "## Load test (and training) set"
   ]
  },
  {
   "cell_type": "code",
   "execution_count": 10,
   "id": "8c7dbc80",
   "metadata": {},
   "outputs": [],
   "source": [
    "with open('sotabv2-cta-train-column.pkl', \"rb\") as f:\n",
    "    train = pickle.load(f)\n",
    "with open('sotabv2-cta-test-column.pkl', \"rb\") as f:\n",
    "    test = pickle.load(f)\n",
    "\n",
    "examples = [example[2] for example in test ]\n",
    "labels = [example[3] for example in test ]\n",
    "\n",
    "train_examples = [ example[2] for example in train ]\n",
    "train_labels = [ labels_to_text[example[3]] for example in train ]"
   ]
  },
  {
   "cell_type": "code",
   "execution_count": 14,
   "id": "60d1819b",
   "metadata": {},
   "outputs": [
    {
     "name": "stdout",
     "output_type": "stream",
     "text": [
      "2008-01-16 2015-01-22 2012-08-15 2014-08-18 2010-04-11\n"
     ]
    }
   ],
   "source": [
    "print(examples[0])"
   ]
  },
  {
   "cell_type": "code",
   "execution_count": 16,
   "id": "130d55de",
   "metadata": {},
   "outputs": [
    {
     "name": "stdout",
     "output_type": "stream",
     "text": [
      "['Date', 'Book/name', 'Language', 'Person/name', 'Date', 'Number', 'Place/name', 'telephone', 'currency', 'category', 'price', 'ItemAvailability', 'Place/name', 'Event/name', 'EventAttendanceModeEnumeration', 'EventStatusType', 'EventStatusType', 'Event/name', 'price', 'Place/name', 'EventStatusType', 'price', 'Person/name', 'Place/name', 'Place/name', 'EventStatusType', 'addressLocality', 'addressRegion', 'postalCode', 'streetAddress', 'streetAddress', 'addressRegion', 'addressLocality', 'Country', 'openingHours', 'Review', 'priceRange', 'Country', 'LocalBusiness/name', 'addressLocality', 'Rating', 'Duration', 'Number', 'Movie/name', 'Duration', 'URL', 'Number', 'Person/name', 'Rating', 'Movie/name', 'Movie/name', 'Number', 'Rating', 'Duration', 'Date', 'Movie/name', 'Person/name', 'Person/name', 'MusicArtistAT', 'faxNumber', 'Person/name', 'email', 'Person/name', 'GenderType', 'Country', 'Person/name', 'GenderType', 'Date', 'Person/name', 'GenderType', 'GenderType', 'GenderType', 'Review', 'category', 'OfferItemCondition', 'weight', 'currency', 'price', 'weight', 'ItemAvailability', 'IdentifierAT', 'ItemAvailability', 'currency', 'weight', 'price', 'weight', 'category', 'ItemAvailability', 'OfferItemCondition', 'weight', 'Review', 'weight', 'URL', 'IdentifierAT', 'category', 'ItemAvailability', 'currency', 'price', 'weight', 'weight', 'category', 'OfferItemCondition', 'weight', 'category', 'OfferItemCondition', 'Review', 'currency', 'ItemAvailability', 'OfferItemCondition', 'weight', 'price', 'weight', 'category', 'OfferItemCondition', 'Person/name', 'CreativeWork/name', 'CreativeWork', 'CreativeWork', 'CreativeWork/name', 'Person/name', 'CreativeWork', 'Organization', 'Person/name', 'CreativeWork/name', 'Person/name', 'CreativeWork/name', 'CreativeWork', 'Date', 'Date', 'Organization', 'CreativeWork/name', 'Person/name', 'Number', 'CreativeWork/name', 'CreativeWork', 'priceRange', 'PostalAddress', 'Hotel/name', 'Hotel/description', 'paymentAccepted', 'addressLocality', 'streetAddress', 'openingHours', 'Hotel/name', 'Photograph', 'Hotel/name', 'PostalAddress', 'Time', 'priceRange', 'Time', 'LocationFeatureSpecification', 'Hotel/description', 'Time', 'paymentAccepted', 'Hotel/name', 'Time', 'LocationFeatureSpecification', 'Time', 'Time', 'postalCode', 'addressLocality', 'Country', 'streetAddress', 'paymentAccepted', 'CoordinateAT', 'CoordinateAT', 'Hotel/name', 'LocationFeatureSpecification', 'Time', 'paymentAccepted', 'postalCode', 'addressLocality', 'Country', 'streetAddress', 'Time', 'CoordinateAT', 'CoordinateAT', 'Hotel/name', 'LocationFeatureSpecification', 'Hotel/description', 'telephone', 'priceRange', 'Number', 'Review', 'LocationFeatureSpecification', 'Hotel/description', 'MonetaryAmount', 'JobPosting/name', 'JobPosting/description', 'MonetaryAmount', 'Organization', 'CategoryCode', 'JobPosting/name', 'addressRegion', 'postalCode', 'streetAddress', 'Country', 'Place/name', 'CoordinateAT', 'CoordinateAT', 'addressLocality', 'postalCode', 'addressRegion', 'Country', 'streetAddress', 'Place/name', 'RestrictedDiet', 'Mass', 'Mass', 'Mass', 'Mass', 'Mass', 'Mass', 'Mass', 'Mass', 'Time', 'Duration', 'Date', 'Duration', 'Duration', 'Energy', 'Recipe/description', 'Mass', 'Energy', 'Mass', 'Mass', 'Mass', 'Mass', 'Mass', 'Mass', 'Time', 'Time', 'RestrictedDiet', 'Energy', 'RestrictedDiet', 'ItemList', 'Recipe/description', 'RestrictedDiet', 'Energy', 'Recipe/name', 'QuantitativeValue', 'Review', 'Recipe/description', 'priceRange', 'Boolean', 'Time', 'Time', 'DayOfWeek', 'Restaurant/name', 'priceRange', 'Boolean', 'PostalAddress', 'Restaurant/name', 'priceRange', 'Time', 'Time', 'DayOfWeek', 'telephone', 'Restaurant/name', 'BookFormatType', 'Date', 'IdentifierAT', 'Book/name', 'Book/description', 'Review', 'Person/name', 'Book/name', 'Language', 'BookFormatType', 'Book/description', 'currency', 'DateTime', 'category', 'ItemAvailability', 'Organization', 'price', 'category', 'ItemAvailability', 'DateTime', 'Organization', 'telephone', 'email', 'currency', 'currency', 'category', 'DateTime', 'ItemAvailability', 'price', 'Organization', 'Event/description', 'Place/name', 'DateTime', 'category', 'ItemAvailability', 'Organization', 'currency', 'telephone', 'email', 'Place/name', 'DateTime', 'category', 'ItemAvailability', 'EventStatusType', 'Place/name', 'Event/name', 'Event/description', 'Place/name', 'Organization', 'telephone', 'email', 'openingHours', 'PostalAddress', 'Photograph', 'telephone', 'URL', 'postalCode', 'addressRegion', 'CoordinateAT', 'CoordinateAT', 'Review', 'streetAddress', 'LocalBusiness/name', 'Rating', 'Number', 'Date', 'Review', 'Movie/name', 'Movie/description', 'Movie/name', 'DateTime', 'Person/name', 'Movie/description', 'Rating', 'Person/name', 'Language', 'Movie/description', 'Movie/name', 'Rating', 'Movie/description', 'Movie/name', 'Person/name', 'Rating', 'Movie/name', 'Movie/description', 'MusicArtistAT', 'MusicRecording/name', 'MusicArtistAT', 'MusicRecording/name', 'MusicArtistAT', 'MusicRecording/name', 'MusicAlbum/name', 'MusicAlbum/name', 'MusicRecording/name', 'MusicArtistAT', 'Distance', 'weight', 'Date', 'Distance', 'weight', 'Country', 'Person/name', 'weight', 'Distance', 'IdentifierAT', 'currency', 'price', 'IdentifierAT', 'Product/description', 'Product/description', 'currency', 'price', 'Brand', 'weight', 'ItemAvailability', 'weight', 'category', 'Brand', 'ProductModel', 'OfferItemCondition', 'ItemAvailability', 'unitCode', 'Distance', 'unitCode', 'unitCode', 'Distance', 'Distance', 'OfferItemCondition', 'weight', 'Product/description', 'IdentifierAT', 'URL', 'weight', 'Photograph', 'ProductModel', 'Brand', 'category', 'OfferItemCondition', 'Product/name', 'Product/description', 'Photograph', 'Product/description', 'ItemAvailability', 'price', 'currency', 'weight', 'Brand', 'Product/name', 'ProductModel', 'weight', 'Distance', 'Distance', 'Brand', 'category', 'OfferItemCondition', 'Product/description', 'Product/name', 'ProductModel', 'weight', 'unitCode', 'unitCode', 'unitCode', 'category', 'Brand', 'ItemAvailability', 'OfferItemCondition', 'Distance', 'Distance', 'Distance', 'Review', 'unitText', 'unitText', 'ItemAvailability', 'weight', 'Distance', 'unitText', 'Distance', 'ProductModel', 'unitCode', 'category', 'Brand', 'ItemAvailability', 'OfferItemCondition', 'Distance', 'Distance', 'unitCode', 'Distance', 'unitCode', 'Review', 'weight', 'Product/description', 'Product/name', 'currency', 'Brand', 'weight', 'Distance', 'Distance', 'LocalBusiness/name', 'faxNumber', 'LocalBusiness/name', 'faxNumber', 'Date', 'BookFormatType', 'ItemAvailability', 'Book/name', 'Language', 'Event/name', 'Date', 'Date', 'Event/name', 'Place/name', 'EventAttendanceModeEnumeration', 'EventStatusType', 'Duration', 'Date', 'Event/name', 'Country', 'Date', 'Date', 'Event/name', 'ItemAvailability', 'priceRange', 'priceRange', 'telephone', 'openingHours', 'priceRange', 'telephone', 'LocalBusiness/name', 'openingHours', 'priceRange', 'faxNumber', 'email', 'streetAddress', 'addressRegion', 'postalCode', 'addressLocality', 'Country', 'faxNumber', 'postalCode', 'telephone', 'LocalBusiness/name', 'addressLocality', 'openingHours', 'Photograph', 'priceRange', 'telephone', 'LocalBusiness/name', 'addressRegion', 'addressLocality', 'streetAddress', 'Country', 'postalCode', 'Review', 'telephone', 'LocalBusiness/name', 'openingHours', 'Photograph', 'telephone', 'LocalBusiness/name', 'openingHours', 'telephone', 'faxNumber', 'openingHours', 'priceRange', 'faxNumber', 'LocalBusiness/name', 'email', 'postalCode', 'Country', 'addressLocality', 'addressRegion', 'priceRange', 'telephone', 'faxNumber', 'postalCode', 'Duration', 'Date', 'Movie/name', 'Rating', 'Duration', 'Number', 'Date', 'Movie/name', 'Rating', 'Duration', 'Date', 'Movie/name', 'Rating', 'Duration', 'Date', 'Movie/name', 'Rating', 'Duration', 'Date', 'Person/name', 'Movie/name', 'Rating', 'Duration', 'Language', 'Date', 'priceRange', 'Hotel/name', 'PostalAddress', 'LocationFeatureSpecification', 'Hotel/description', 'Date', 'JobPosting/name', 'priceRange', 'postalCode', 'CoordinateAT', 'Restaurant/name', 'Boolean', 'Date', 'Date', 'Place/name', 'Event/description', 'telephone', 'LocalBusiness/name', 'Photograph', 'email', 'Duration', 'Date', 'Movie/name', 'Rating', 'Duration', 'Date', 'Movie/name', 'Rating', 'Movie/description', 'Distance', 'Distance', 'Product/name', 'Product/description', 'weight', 'priceRange', 'LocalBusiness/name', 'addressRegion', 'postalCode', 'addressLocality', 'Country', 'streetAddress', 'DayOfWeek', 'priceRange', 'openingHours', 'paymentAccepted', 'email', 'priceRange', 'LocalBusiness/name', 'postalCode', 'addressLocality', 'streetAddress', 'addressRegion', 'DayOfWeek', 'Distance', 'Distance', 'weight', 'weight', 'weight', 'weight', 'Distance', 'Date', 'Distance', 'Date', 'Distance', 'Date', 'Distance', 'weight', 'telephone', 'Person/name', 'faxNumber', 'telephone', 'Person/name', 'faxNumber', 'Duration', 'MusicAlbum/name', 'MusicRecording/name', 'Duration', 'Number', 'MusicRecording/name', 'Duration', 'Movie/name', 'Duration', 'Number', 'Movie/name', 'Duration', 'Number', 'Duration', 'Movie/name', 'price', 'Number', 'Number', 'Book/name', 'price', 'price', 'price', 'Duration', 'DateTime', 'DateTime', 'Duration', 'Event/name', 'price', 'Date', 'DateTime', 'priceRange', 'telephone', 'Hotel/name', 'faxNumber', 'priceRange', 'addressLocality', 'Hotel/name', 'CoordinateAT', 'CoordinateAT', 'priceRange', 'priceRange', 'email', 'openingHours', 'priceRange', 'priceRange', 'priceRange', 'telephone', 'LocalBusiness/name', 'priceRange', 'CoordinateAT', 'openingHours', 'priceRange', 'priceRange', 'telephone', 'priceRange', 'telephone', 'Mass', 'Mass', 'Mass', 'Mass', 'Duration', 'Energy', 'Mass', 'Mass', 'Mass', 'Mass', 'QuantitativeValue', 'Duration', 'Duration', 'Energy', 'Mass', 'Mass', 'Mass', 'Mass', 'Mass', 'Mass', 'Duration', 'Duration', 'Energy', 'faxNumber', 'faxNumber', 'faxNumber', 'faxNumber', 'faxNumber', 'DateTime', 'DateTime', 'Event/name', 'DateTime', 'DateTime', 'DateTime', 'category', 'Date', 'Date', 'CreativeWork/name', 'priceRange', 'Review', 'priceRange', 'Restaurant/name', 'weight', 'weight', 'weight', 'weight', 'Distance', 'Distance', 'Distance', 'Duration', 'Distance', 'Distance', 'weight', 'priceRange', 'ItemAvailability', 'price', 'PostalAddress', 'price', 'price', 'faxNumber', 'Hotel/name', 'paymentAccepted', 'Number', 'Date', 'Book/name', 'BookFormatType', 'Book/name', 'BookFormatType', 'BookFormatType', 'Book/name', 'Person/name', 'IdentifierAT', 'BookFormatType', 'Language', 'Review', 'Language', 'IdentifierAT', 'Book/name', 'BookFormatType', 'Number', 'Date', 'BookFormatType', 'Language', 'Date', 'ItemAvailability', 'Book/name', 'BookFormatType', 'Language', 'Book/name', 'Language', 'Language', 'IdentifierAT', 'Book/name', 'IdentifierAT', 'Book/name', 'Language', 'ItemAvailability', 'Book/name', 'Review', 'Number', 'Number', 'Number', 'Book/name', 'BookFormatType', 'price', 'Person/name', 'price', 'Book/name', 'Date', 'Book/name', 'price', 'Language', 'Book/name', 'Date', 'Book/name', 'Place/name', 'Event/name', 'EventStatusType', 'EventAttendanceModeEnumeration', 'Event/name', 'category', 'EventStatusType', 'EventAttendanceModeEnumeration', 'Event/name', 'Place/name', 'ItemAvailability', 'category', 'email', 'category', 'EventStatusType', 'EventAttendanceModeEnumeration', 'Event/name', 'ItemAvailability', 'Event/name', 'Event/name', 'Date', 'Date', 'Event/name', 'EventAttendanceModeEnumeration', 'EventStatusType', 'LocalBusiness/name', 'streetAddress', 'openingHours', 'faxNumber', 'streetAddress', 'URL', 'priceRange', 'addressRegion', 'Date', 'Movie/name', 'Review', 'Rating', 'Movie/name', 'Rating', 'Language', 'Movie/name', 'MusicArtistAT', 'MusicAlbum/name', 'MusicRecording/name', 'MusicRecording/name', 'MusicAlbum/name', 'MusicRecording/name', 'MusicRecording/name', 'MusicArtistAT', 'MusicAlbum/name', 'MusicAlbum/name', 'MusicRecording/name', 'Person/name', 'Country', 'Person/name', 'GenderType', 'postalCode', 'Person/name', 'Person/name', 'email', 'addressRegion', 'addressLocality', 'Person/name', 'GenderType', 'addressLocality', 'Person/name', 'faxNumber', 'streetAddress', 'OfferItemCondition', 'category', 'Product/name', 'currency', 'category', 'Product/name', 'category', 'weight', 'Date', 'currency', 'ItemAvailability', 'Review', 'category', 'category', 'currency', 'OfferItemCondition', 'weight', 'DeliveryMethod', 'Review', 'Number', 'ItemAvailability', 'category', 'category', 'weight', 'DeliveryMethod', 'Product/name', 'currency', 'category', 'CreativeWork/name', 'Language', 'telephone', 'Organization', 'CreativeWork/name', 'Person/name', 'CreativeWork/name', 'DateTime', 'CreativeWork', 'Organization', 'Number', 'Boolean', 'CreativeWork/name', 'CreativeWork', 'Person/name', 'DateTime', 'addressLocality', 'priceRange', 'Country', 'addressLocality', 'Hotel/name', 'priceRange', 'addressLocality', 'Hotel/description', 'Hotel/name', 'priceRange', 'LocationFeatureSpecification', 'Hotel/description', 'addressLocality', 'Hotel/name', 'Country', 'addressLocality', 'Hotel/name', 'Country', 'addressLocality', 'Country', 'addressLocality', 'Hotel/name', 'priceRange', 'Country', 'addressLocality', 'Hotel/name', 'Country', 'addressLocality', 'telephone', 'Hotel/name', 'priceRange', 'Country', 'addressLocality', 'priceRange', 'Country', 'addressLocality', 'Country', 'addressLocality', 'Country', 'addressLocality', 'addressLocality', 'Country', 'PostalAddress', 'MonetaryAmount', 'Organization', 'Organization', 'workHours', 'CategoryCode', 'Organization', 'IdentifierAT', 'workHours', 'OccupationalExperienceRequirements', 'EducationalOccupationalCredential', 'MonetaryAmount', 'CategoryCode', 'JobPosting/description', 'CategoryCode', 'JobPosting/name', 'PostalAddress', 'CoordinateAT', 'CoordinateAT', 'Museum/name', 'CoordinateAT', 'Museum/name', 'PostalAddress', 'CoordinateAT', 'Museum/name', 'Country', 'Museum/name', 'CoordinateAT', 'Museum/name', 'postalCode', 'addressRegion', 'postalCode', 'Museum/name', 'postalCode', 'CoordinateAT', 'Museum/name', 'CoordinateAT', 'Museum/name', 'Country', 'postalCode', 'streetAddress', 'Museum/name', 'CoordinateAT', 'Museum/name', 'postalCode', 'Country', 'Number', 'MusicArtistAT', 'MusicRecording/name', 'MusicAlbum/name', 'MusicArtistAT', 'MusicRecording/name', 'MusicAlbum/name', 'Number', 'MusicArtistAT', 'MusicAlbum/name', 'MusicRecording/name', 'Date', 'MusicArtistAT', 'MusicAlbum/name', 'MusicArtistAT', 'MusicAlbum/name', 'MusicRecording/name', 'Date', 'MusicArtistAT', 'MusicAlbum/name', 'price', 'Date', 'MusicRecording/name', 'MusicAlbum/name', 'MusicArtistAT', 'MusicAlbum/name', 'MusicRecording/name', 'PostalAddress', 'addressLocality', 'Country', 'Recipe/name', 'ItemList', 'Time', 'Energy', 'RestrictedDiet', 'Recipe/description', 'Time', 'Energy', 'RestrictedDiet', 'Recipe/description', 'QuantitativeValue', 'Energy', 'RestrictedDiet', 'Recipe/description', 'Duration', 'Duration', 'Energy', 'RestrictedDiet', 'Recipe/description', 'Recipe/name', 'Recipe/description', 'Duration', 'Duration', 'Duration', 'Energy', 'RestrictedDiet', 'QuantitativeValue', 'Energy', 'RestrictedDiet', 'Time', 'RestrictedDiet', 'ItemList', 'Recipe/description', 'Time', 'Restaurant/name', 'priceRange', 'DayOfWeek', 'Time', 'Restaurant/name', 'Boolean', 'streetAddress', 'Restaurant/name', 'priceRange', 'openingHours', 'Boolean', 'addressLocality', 'Restaurant/name', 'addressLocality', 'Number', 'Restaurant/name', 'priceRange', 'paymentAccepted', 'DayOfWeek', 'Review', 'Country', 'Country', 'Restaurant/name', 'Country', 'openingHours', 'Restaurant/name', 'URL', 'openingHours', 'Restaurant/name', 'telephone', 'openingHours', 'Boolean', 'Review', 'Restaurant/name', 'telephone', 'Review', 'priceRange', 'SportsTeam', 'SportsEvent/name', 'SportsTeam', 'SportsEvent/name', 'SportsEvent/name', 'SportsEvent/name', 'SportsTeam', 'SportsEvent/name', 'SportsEvent/name', 'SportsTeam', 'SportsEvent/name', 'SportsTeam', 'SportsTeam', 'SportsEvent/name', 'SportsTeam', 'SportsEvent/name', 'SportsTeam', 'TVEpisode/name', 'CreativeWorkSeries', 'TVEpisode/name', 'CreativeWorkSeries', 'TVEpisode/name', 'CreativeWorkSeries', 'TVEpisode/name', 'CreativeWorkSeries', 'TVEpisode/name', 'CreativeWorkSeries', 'TVEpisode/name', 'CreativeWorkSeries', 'TVEpisode/name', 'CreativeWorkSeries', 'ItemAvailability', 'Book/name', 'OfferItemCondition', 'Book/description', 'Person/name', 'BookFormatType', 'Language', 'Person/name', 'BookFormatType', 'Language', 'Person/name', 'Book/name', 'Book/description', 'price', 'ItemAvailability', 'Book/name', 'Book/description', 'Book/name', 'BookFormatType', 'Person/name', 'BookFormatType', 'Language', 'Book/name', 'Book/description', 'BookFormatType', 'IdentifierAT', 'ItemAvailability', 'Book/name', 'BookFormatType', 'price', 'Book/name', 'Book/description', 'BookFormatType', 'Book/name', 'Language', 'Book/description', 'Date', 'IdentifierAT', 'Book/description', 'price', 'Number', 'BookFormatType', 'Book/name', 'Language', 'price', 'ItemAvailability', 'Book/name', 'Number', 'Date', 'BookFormatType', 'Language', 'Book/description', 'Place/name', 'Event/name', 'category', 'ItemAvailability', 'EventAttendanceModeEnumeration', 'EventStatusType', 'Event/description', 'Event/name', 'EventStatusType', 'EventAttendanceModeEnumeration', 'PostalAddress', 'Place/name', 'Event/description', 'Organization', 'Event/description', 'Event/name', 'LocalBusiness/name', 'openingHours', 'LocalBusiness/name', 'email', 'Language', 'Movie/name', 'Review', 'Movie/description', 'Movie/name', 'Duration', 'Date', 'Rating', 'Movie/name', 'MusicAlbum/name', 'MusicArtistAT', 'Person/name', 'GenderType', 'Person/name', 'GenderType', 'Country', 'GenderType', 'email', 'Person/name', 'GenderType', 'email', 'Person/name', 'GenderType', 'Person/name', 'GenderType', 'DateTime', 'currency', 'ItemAvailability', 'category', 'OfferItemCondition', 'currency', 'Photograph', 'URL', 'DateTime', 'currency', 'Brand', 'OfferItemCondition', 'category', 'ProductModel', 'Product/name', 'unitText', 'Product/name', 'Product/description', 'URL', 'Photograph', 'unitText', 'URL', 'Photograph', 'Product/name', 'Product/description', 'currency', 'Brand', 'ItemAvailability', 'unitText', 'Product/description', 'Product/name', 'weight', 'unitText', 'Product/name', 'Product/description', 'unitText', 'Product/name', 'Product/description', 'BookFormatType', 'Book/name', 'BookFormatType', 'OfferItemCondition', 'Book/name', 'Book/name', 'Language', 'priceRange', 'URL', 'Event/name', 'Place/name', 'telephone', 'category', 'ItemAvailability', 'price', 'telephone', 'email', 'Event/name', 'EventAttendanceModeEnumeration', 'category', 'email', 'telephone', 'ItemAvailability', 'EventStatusType', 'EventAttendanceModeEnumeration', 'Event/name', 'EventStatusType', 'EventAttendanceModeEnumeration', 'Place/name', 'price', 'Event/name', 'price', 'currency', 'ItemAvailability', 'category', 'telephone', 'email', 'Language', 'EventStatusType', 'EventAttendanceModeEnumeration', 'Event/name', 'LocalBusiness/name', 'postalCode', 'addressLocality', 'addressRegion', 'streetAddress', 'Country', 'email', 'Country', 'addressRegion', 'addressLocality', 'streetAddress', 'postalCode', 'telephone', 'LocalBusiness/name', 'addressRegion', 'Country', 'streetAddress', 'addressLocality', 'Photograph', 'openingHours', 'openingHours', 'Review', 'openingHours', 'LocalBusiness/name', 'Country', 'postalCode', 'streetAddress', 'addressLocality', 'Movie/name', 'Duration', 'URL', 'Movie/name', 'Duration', 'Country', 'Movie/name', 'Duration', 'MusicRecording/name', 'MusicAlbum/name', 'MusicArtistAT', 'MusicRecording/name', 'MusicAlbum/name', 'MusicArtistAT', 'MusicRecording/name', 'MusicAlbum/name', 'MusicArtistAT', 'MusicRecording/name', 'MusicRecording/name', 'MusicArtistAT', 'MusicArtistAT', 'MusicAlbum/name', 'MusicRecording/name', 'MusicAlbum/name', 'MusicArtistAT', 'MusicRecording/name', 'MusicAlbum/name', 'MusicRecording/name', 'MusicAlbum/name', 'MusicArtistAT', 'MusicAlbum/name', 'Person/name', 'addressLocality', 'email', 'Person/name', 'Person/name', 'faxNumber', 'Person/name', 'Person/name', 'Person/name', 'GenderType', 'Person/name', 'GenderType', 'Person/name', 'email', 'GenderType', 'Language', 'telephone', 'IdentifierAT', 'email', 'GenderType', 'Person/name', 'email', 'Person/name', 'Person/name', 'Person/name', 'email', 'Photograph', 'GenderType', 'Language', 'Person/name', 'email', 'Person/name', 'Person/name', 'email', 'faxNumber', 'GenderType', 'Person/name', 'Person/name', 'GenderType', 'Person/name', 'Person/name', 'telephone', 'weight', 'Product/name', 'Photograph', 'price', 'Product/name', 'Photograph', 'URL', 'currency', 'price', 'Product/name', 'URL', 'Photograph', 'price', 'currency', 'price', 'Review', 'currency', 'Product/name', 'Photograph', 'currency', 'price', 'URL', 'DeliveryMethod', 'Review', 'Product/name', 'IdentifierAT', 'DeliveryMethod', 'ItemAvailability', 'category', 'DeliveryMethod', 'Product/name', 'ItemAvailability', 'OfferItemCondition', 'DeliveryMethod', 'Product/name', 'Photograph', 'currency', 'price', 'URL', 'Product/name', 'Photograph', 'currency', 'price', 'URL', 'Product/name', 'IdentifierAT', 'price', 'Product/name', 'URL', 'currency', 'price', 'Photograph', 'Review', 'Product/name', 'Photograph', 'URL', 'price', 'currency', 'DeliveryMethod', 'Review', 'weight', 'weight', 'Product/name', 'Photograph', 'currency', 'URL', 'DeliveryMethod', 'price', 'Number', 'Review', 'DeliveryMethod', 'Product/name', 'IdentifierAT', 'ItemAvailability', 'DeliveryMethod', 'category', 'Product/name', 'URL', 'Photograph', 'currency', 'Product/name', 'Photograph', 'currency', 'URL', 'telephone', 'Organization', 'CreativeWork/name', 'CreativeWork', 'CreativeWork/name', 'CreativeWork/name', 'CreativeWork', 'CreativeWork/name', 'CreativeWork/name', 'Time', 'Time', 'LocationFeatureSpecification', 'Hotel/description', 'Hotel/name', 'Time', 'Time', 'priceRange', 'LocationFeatureSpecification', 'Hotel/description', 'priceRange', 'LocationFeatureSpecification', 'Hotel/name', 'Time', 'Time', 'priceRange', 'Hotel/description', 'Hotel/name', 'priceRange', 'Boolean', 'paymentAccepted', 'LocationFeatureSpecification', 'MonetaryAmount', 'workHours', 'EducationalOccupationalCredential', 'CategoryCode', 'EducationalOccupationalCredential', 'JobPosting/description', 'EducationalOccupationalCredential', 'OccupationalExperienceRequirements', 'CategoryCode', 'JobPosting/description', 'OccupationalExperienceRequirements', 'EducationalOccupationalCredential', 'JobPosting/description', 'IdentifierAT', 'JobPosting/name', 'JobPosting/description', 'EducationalOccupationalCredential', 'OccupationalExperienceRequirements', 'EducationalOccupationalCredential', 'IdentifierAT', 'CategoryCode', 'JobPosting/description', 'workHours', 'OccupationalExperienceRequirements', 'workHours', 'CategoryCode', 'JobPosting/description', 'EducationalOccupationalCredential', 'EducationalOccupationalCredential', 'CategoryCode', 'OccupationalExperienceRequirements', 'workHours', 'CategoryCode', 'Organization', 'IdentifierAT', 'JobPosting/description', 'workHours', 'CategoryCode', 'JobPosting/name', 'Organization', 'IdentifierAT', 'workHours', 'CategoryCode', 'JobPosting/description', 'JobPosting/name', 'PostalAddress', 'JobPosting/description', 'MonetaryAmount', 'workHours', 'addressLocality', 'CategoryCode', 'MonetaryAmount', 'PostalAddress', 'Organization', 'JobPosting/name', 'MonetaryAmount', 'OccupationalExperienceRequirements', 'CategoryCode', 'EducationalOccupationalCredential', 'OccupationalExperienceRequirements', 'JobPosting/name', 'workHours', 'OccupationalExperienceRequirements', 'EducationalOccupationalCredential', 'OccupationalExperienceRequirements', 'EducationalOccupationalCredential', 'MonetaryAmount', 'JobPosting/name', 'OccupationalExperienceRequirements', 'IdentifierAT', 'currency', 'workHours', 'OccupationalExperienceRequirements', 'IdentifierAT', 'currency', 'MonetaryAmount', 'CategoryCode', 'JobPosting/name', 'MusicAlbum/name', 'MusicRecording/name', 'MusicAlbum/name', 'MusicRecording/name', 'MusicAlbum/name', 'Place/name', 'PostalAddress', 'CoordinateAT', 'CoordinateAT', 'postalCode', 'Place/name', 'addressRegion', 'CoordinateAT', 'CoordinateAT', 'Country', 'Place/name', 'PostalAddress', 'streetAddress', 'DayOfWeek', 'Place/name', 'CoordinateAT', 'CoordinateAT', 'CreativeWork/name', 'Recipe/name', 'ItemList', 'QuantitativeValue', 'Recipe/name', 'QuantitativeValue', 'Recipe/description', 'ItemList', 'Recipe/name', 'Duration', 'QuantitativeValue', 'Recipe/name', 'QuantitativeValue', 'Duration', 'ItemList', 'Duration', 'Recipe/description', 'Recipe/name', 'ItemList', 'QuantitativeValue', 'Duration', 'Duration', 'Recipe/name', 'ItemList', 'Duration', 'QuantitativeValue', 'Recipe/name', 'QuantitativeValue', 'Duration', 'Duration', 'ItemList', 'Recipe/description', 'Restaurant/name', 'Boolean', 'openingHours', 'Restaurant/name', 'Restaurant/name', 'Boolean', 'Restaurant/name', 'paymentAccepted', 'Restaurant/name', 'paymentAccepted', 'Time', 'DayOfWeek', 'Time', 'Restaurant/name', 'DayOfWeek', 'Time', 'Time', 'Restaurant/name', 'priceRange', 'SportsEvent/name', 'EventAttendanceModeEnumeration', 'SportsTeam', 'SportsTeam', 'TVEpisode/name', 'CreativeWorkSeries', 'TVEpisode/name', 'CreativeWorkSeries', 'TVEpisode/name', 'CreativeWorkSeries', 'BookFormatType', 'Language', 'Language', 'OfferItemCondition', 'Book/description', 'Event/name', 'EventStatusType', 'Organization', 'EventAttendanceModeEnumeration', 'Event/description', 'Event/name', 'Event/description', 'Organization', 'EventStatusType', 'URL', 'ItemAvailability', 'price', 'Event/name', 'EventStatusType', 'Place/name', 'Event/description', 'Event/name', 'EventStatusType', 'EventAttendanceModeEnumeration', 'Event/name', 'category', 'price', 'ItemAvailability', 'Event/description', 'PostalAddress', 'EventStatusType', 'EventAttendanceModeEnumeration', 'PostalAddress', 'EventStatusType', 'EventAttendanceModeEnumeration', 'telephone', 'Place/name', 'Person/name', 'email', 'Event/name', 'EventStatusType', 'URL', 'Place/name', 'Event/description', 'EventStatusType', 'EventAttendanceModeEnumeration', 'PostalAddress', 'Event/description', 'Event/name', 'EventAttendanceModeEnumeration', 'EventStatusType', 'openingHours', 'paymentAccepted', 'LocalBusiness/name', 'LocalBusiness/name', 'PostalAddress', 'Number', 'LocalBusiness/name', 'postalCode', 'streetAddress', 'addressRegion', 'LocalBusiness/name', 'addressRegion', 'postalCode', 'streetAddress', 'Movie/name', 'Duration', 'URL', 'Movie/description', 'Movie/name', 'Rating', 'Movie/description', 'Movie/name', 'Rating', 'Movie/description', 'Movie/name', 'Rating', 'Movie/description', 'MusicRecording/name', 'MusicAlbum/name', 'MusicArtistAT', 'MusicRecording/name', 'MusicArtistAT', 'MusicAlbum/name', 'MusicRecording/name', 'MusicAlbum/name', 'MusicArtistAT', 'Person/name', 'email', 'Person/name', 'GenderType', 'GenderType', 'GenderType', 'GenderType', 'Product/name', 'currency', 'ItemAvailability', 'Date', 'price', 'IdentifierAT', 'ProductModel', 'Review', 'URL', 'Product/name', 'Photograph', 'Product/name', 'IdentifierAT', 'ItemAvailability', 'price', 'currency', 'Product/name', 'Product/description', 'currency', 'price', 'Brand', 'ItemAvailability', 'ProductModel', 'Review', 'Product/name', 'URL', 'Photograph', 'ProductModel', 'unitCode', 'unitCode', 'unitCode', 'unitCode', 'Distance', 'Distance', 'Distance', 'weight', 'Product/name', 'Product/name', 'Product/description', 'price', 'currency', 'unitText', 'Product/name', 'Product/description', 'unitText', 'Product/name', 'Product/description', 'ProductModel', 'Review', 'OfferItemCondition', 'openingHours', 'paymentAccepted', 'LocalBusiness/name', 'LocalBusiness/name', 'Country', 'addressRegion', 'streetAddress', 'addressLocality', 'postalCode', 'DayOfWeek', 'SportsEvent/name', 'EventAttendanceModeEnumeration', 'Person/name', 'weight', 'CreativeWork/name', 'CreativeWork/name', 'CreativeWork', 'ItemList', 'Energy']\n"
     ]
    }
   ],
   "source": [
    "print(labels)"
   ]
  },
  {
   "cell_type": "code",
   "execution_count": null,
   "id": "5ef66421",
   "metadata": {},
   "outputs": [],
   "source": [
    "df2 = pd.read_json(\"Test/Book_efl-esl.com_September2020_CTA.json.gz\", compression='gzip', lines=True)\n",
    "\n",
    "df1 = pd.read_csv(\"sotab_v2_cta_test_set.csv\")\n",
    "\n",
    "df1"
   ]
  },
  {
   "cell_type": "code",
   "execution_count": null,
   "id": "d21dc144",
   "metadata": {},
   "outputs": [],
   "source": [
    "print(test[0][1])"
   ]
  },
  {
   "cell_type": "code",
   "execution_count": null,
   "id": "33fb96ec",
   "metadata": {},
   "outputs": [],
   "source": [
    "model_name = 'gpt-3.5-turbo-0301'\n",
    "chat = ChatOpenAI(openai_api_key=OPENAI_API_KEY, temperature=0, model=model_name)"
   ]
  },
  {
   "cell_type": "markdown",
   "id": "f825141f",
   "metadata": {},
   "source": [
    "## Choose setup: zero-shot, one-shot or five-shot"
   ]
  },
  {
   "cell_type": "code",
   "execution_count": 6,
   "id": "02b7c3be",
   "metadata": {},
   "outputs": [],
   "source": [
    "labels_joined = \", \".join(list(set(labels)))"
   ]
  },
  {
   "cell_type": "code",
   "execution_count": null,
   "id": "e161c30f",
   "metadata": {},
   "outputs": [],
   "source": [
    "f\"Your task is to classify the relation of the two given columns with only one of the following types that are separated with comma: {labels_joined}\""
   ]
  },
  {
   "cell_type": "code",
   "execution_count": null,
   "id": "665de05e",
   "metadata": {
    "scrolled": true
   },
   "outputs": [],
   "source": [
    "#Zero-shot column + instructions + roles\n",
    "preds = []\n",
    "for example in examples:\n",
    "    messages = []\n",
    "    \n",
    "    #Add system message\n",
    "    messages.append(SystemMessage(content=\"Your task is to classify a given column with only one of the following types that are separated with comma: description of event, description of restaurant, locality of address, postal code, region of address, country, price range, telephone, date, name of restaurant, payment accepted, day of week, review, organization, date and time, coordinate, name of event, event attendance mode, event status, currency, time, description of hotel, name of hotel, location feature, rating, fax number, email, photograph, name of music recording, music artist, name of album, duration.\"))    \n",
    "    messages.append(SystemMessage(content=\"Your instructions are: 1. Look at the column and the types given to you. 2. Examine the values of the column. 3. Select a type that best represents the meaning of the column. 4. Answer with the selected type.\"))\n",
    "    \n",
    "    messages.append(HumanMessage(content=f\"Classify this column: {example}\"))\n",
    "    res = chat(messages)\n",
    "    preds.append(res.content)"
   ]
  },
  {
   "cell_type": "code",
   "execution_count": null,
   "id": "0696427e",
   "metadata": {
    "scrolled": true
   },
   "outputs": [],
   "source": [
    "import random\n",
    "#One-shot column + instructions + roles\n",
    "preds = []\n",
    "for example in examples:\n",
    "    messages = []\n",
    "    \n",
    "    #Add system message\n",
    "    messages.append(SystemMessage(content=\"Your task is to classify a given column with only one of the following types that are separated with comma: description of event, description of restaurant, locality of address, postal code, region of address, country, price range, telephone, date, name of restaurant, payment accepted, day of week, review, organization, date and time, coordinate, name of event, event attendance mode, event status, currency, time, description of hotel, name of hotel, location feature, rating, fax number, email, photograph, name of music recording, music artist, name of album, duration.\"))    \n",
    "    messages.append(SystemMessage(content=\"Your instructions are: 1. Look at the column and the types given to you. 2. Examine the values of the column. 3. Select a type that best represents the meaning of the column. 4. Answer with the selected type.\"))\n",
    "\n",
    "    #One random example from the training set\n",
    "    index = random.randint(0, len(train_examples)-1)\n",
    "    messages.append(HumanMessage(content=f\"Classify this column: {train_examples[index]}\"))\n",
    "    messages.append(AIMessage(content=f\"{train_labels[index]}\"))\n",
    "    \n",
    "    messages.append(HumanMessage(content=f\"Classify this column: {example}\"))\n",
    "    res = chat(messages)\n",
    "    preds.append(res.content)"
   ]
  },
  {
   "cell_type": "code",
   "execution_count": null,
   "id": "670444d1",
   "metadata": {
    "scrolled": true
   },
   "outputs": [],
   "source": [
    "import random\n",
    "#Five-shot column + instructions + roles\n",
    "preds = []\n",
    "for example in examples:\n",
    "    messages = []\n",
    "    \n",
    "    #Add system message\n",
    "    messages.append(SystemMessage(content=\"Your task is to classify a given column with only one of the following types that are separated with comma: description of event, description of restaurant, locality of address, postal code, region of address, country, price range, telephone, date, name of restaurant, payment accepted, day of week, review, organization, date and time, coordinate, name of event, event attendance mode, event status, currency, time, description of hotel, name of hotel, location feature, rating, fax number, email, photograph, name of music recording, music artist, name of album, duration.\"))    \n",
    "    messages.append(SystemMessage(content=\"Your instructions are: 1. Look at the column and the types given to you. 2. Examine the values of the column. 3. Select a type that best represents the meaning of the column. 4. Answer with the selected type.\"))\n",
    "    \n",
    "    #Add 5 random examples\n",
    "    for i in range(0,5):\n",
    "        index = random.randint(0, len(train_examples)-1)\n",
    "        messages.append(HumanMessage(content=f\"Classify this column: {train_examples[index]}\"))\n",
    "        messages.append(AIMessage(content=f\"{train_labels[index]}\"))\n",
    "    \n",
    "    messages.append(HumanMessage(content=f\"Classify this column: {example}\"))\n",
    "    res = chat(messages)\n",
    "    preds.append(res.content)"
   ]
  },
  {
   "cell_type": "markdown",
   "id": "f5856b1c",
   "metadata": {},
   "source": [
    "ADVANCED PROMPTS"
   ]
  },
  {
   "cell_type": "code",
   "execution_count": null,
   "id": "21b93a31",
   "metadata": {},
   "outputs": [],
   "source": [
    "preds[:10]"
   ]
  },
  {
   "cell_type": "code",
   "execution_count": null,
   "id": "8c15c770",
   "metadata": {},
   "outputs": [],
   "source": [
    "#Save predictions in a file:\n",
    "file_name=f'Predictions/{model_name}/s1-column-zero-shot.pkl'\n",
    "f = open(file_name,'wb')\n",
    "pickle.dump(preds,f)\n",
    "f.close()"
   ]
  },
  {
   "cell_type": "markdown",
   "id": "4cd98cab",
   "metadata": {},
   "source": [
    "## Evaluation"
   ]
  },
  {
   "cell_type": "code",
   "execution_count": null,
   "id": "af221a94",
   "metadata": {
    "scrolled": true
   },
   "outputs": [],
   "source": [
    "predictions = []\n",
    "for i, pred in enumerate(preds):\n",
    "    from_sent = re.findall('\"([^\"]*)\"',pred)\n",
    "    if len(from_sent) == 0:\n",
    "        if \":\" in pred:\n",
    "            pred = pred.split(':')[1]\n",
    "        if \".\" in pred:\n",
    "            pred = pred.split('.')[0]\n",
    "        pred = pred.strip().lower()\n",
    "        \n",
    "        if pred in text_to_label:\n",
    "            predictions.append(text_to_label[pred])\n",
    "        else:\n",
    "            if any(label in pred for label in text_to_label):\n",
    "                for label in text_to_label:\n",
    "                    if label in pred:\n",
    "                        predictions.append(text_to_label[label])\n",
    "                        break\n",
    "            else:\n",
    "                print(f\"For test example {i} out of label space prediction: {pred}\")\n",
    "                predictions.append('-')\n",
    "\n",
    "    # If predictions is between quotation marks \"\"\n",
    "    else:\n",
    "        if from_sent[0].lower() in text_to_label:\n",
    "            predictions.append(text_to_label[from_sent[0].lower()])\n",
    "        else:\n",
    "            print(f\"For test example {i} out of label space prediction: {pred}\")\n",
    "            predictions.append('-')"
   ]
  },
  {
   "cell_type": "markdown",
   "id": "0ebaf233",
   "metadata": {},
   "source": [
    "### Calculate Precision, Recall, Macro-F1 and Micro-F1"
   ]
  },
  {
   "cell_type": "code",
   "execution_count": null,
   "id": "2b13cebb",
   "metadata": {},
   "outputs": [],
   "source": [
    "import types\n",
    "\n",
    "\n",
    "def calculate_f1_scores(y_tests, y_preds, num_classes):\n",
    "    \n",
    "    y_tests = [types.index(y) for y in y_tests]\n",
    "    y_preds = [types.index(y) for y in y_preds]\n",
    "    \n",
    "    #Confusion matrix\n",
    "    cm = np.zeros(shape=(num_classes,num_classes))\n",
    "    \n",
    "    for i in range(len(y_tests)):\n",
    "        cm[y_preds[i]][y_tests[i]] += 1\n",
    "        \n",
    "    report = {}\n",
    "    \n",
    "    for j in range(len(cm[0])):\n",
    "        report[j] = {}\n",
    "        report[j]['FN'] = 0\n",
    "        report[j]['FP'] = 0\n",
    "        report[j]['TP'] = cm[j][j]\n",
    "\n",
    "        for i in range(len(cm)):\n",
    "            if i != j:\n",
    "                report[j]['FN'] += cm[i][j]\n",
    "        for k in range(len(cm[0])):\n",
    "            if k != j:\n",
    "                report[j]['FP'] += cm[j][k]\n",
    "\n",
    "        precision = report[j]['TP'] / (report[j]['TP'] + report[j]['FP'])\n",
    "        recall = report[j]['TP'] / (report[j]['TP'] + report[j]['FN'])\n",
    "        f1 = 2*precision*recall / (precision + recall)\n",
    "        \n",
    "        if np.isnan(f1):\n",
    "            f1 = 0\n",
    "        if np.isnan(precision):\n",
    "            f1 = 0\n",
    "        if np.isnan(recall):\n",
    "            f1 = 0\n",
    "\n",
    "        report[j]['p'] =  precision\n",
    "        report[j]['r'] =  recall\n",
    "        report[j]['f1'] = f1\n",
    "    \n",
    "    all_fn = 0\n",
    "    all_tp = 0\n",
    "    all_fp = 0\n",
    "\n",
    "    for r in report:\n",
    "        if r != num_classes-1:\n",
    "            all_fn += report[r]['FN']\n",
    "            all_tp += report[r]['TP']\n",
    "            all_fp += report[r]['FP']\n",
    "        \n",
    "    class_f1s = [ report[class_]['f1'] for class_ in report]\n",
    "    class_p = [ 0 if np.isnan(report[class_]['p']) else report[class_]['p'] for class_ in report]\n",
    "    class_r = [ 0 if np.isnan(report[class_]['r']) else report[class_]['r'] for class_ in report]\n",
    "    macro_f1 = sum(class_f1s[:-1]) / (num_classes-1)\n",
    "    \n",
    "    p =  sum(class_p[:-1]) / (num_classes-1)\n",
    "    r =  sum(class_r[:-1]) / (num_classes-1)\n",
    "    micro_f1 = all_tp / ( all_tp + (1/2 * (all_fp + all_fn) )) \n",
    "    \n",
    "    per_class_eval = {}\n",
    "    for index, t in enumerate(types[:-1]):\n",
    "        per_class_eval[t] = {\"Precision\":class_p[index], \"Recall\": class_r[index], \"F1\": class_f1s[index]}\n",
    "    \n",
    "    evaluation = {\n",
    "        \"Micro-F1\": micro_f1,\n",
    "        \"Macro-F1\": macro_f1,\n",
    "        \"Precision\": p,\n",
    "        \"Recall\": r\n",
    "    }\n",
    "    \n",
    "    return [ evaluation, per_class_eval]"
   ]
  },
  {
   "cell_type": "code",
   "execution_count": null,
   "id": "2b214bd0",
   "metadata": {
    "scrolled": true
   },
   "outputs": [],
   "source": [
    "types = list(set(labels))\n",
    "types = types + [\"-\"] if \"-\" in predictions else types   #changed   #changed2 added \"else types\" cause it was invalid\n",
    "evaluation, per_class_eval = calculate_f1_scores(labels, predictions, len(types))"
   ]
  },
  {
   "cell_type": "code",
   "execution_count": null,
   "id": "91e6e35d",
   "metadata": {},
   "outputs": [],
   "source": [
    "evaluation"
   ]
  },
  {
   "cell_type": "code",
   "execution_count": null,
   "id": "770bbcaf",
   "metadata": {
    "scrolled": true
   },
   "outputs": [],
   "source": [
    "per_class_eval"
   ]
  },
  {
   "cell_type": "markdown",
   "id": "35074db1",
   "metadata": {},
   "source": [
    "## Error Analysis"
   ]
  },
  {
   "cell_type": "code",
   "execution_count": null,
   "id": "960b5c02",
   "metadata": {},
   "outputs": [],
   "source": [
    "# \"-\" means the model replied with out of label or with I don't know\n",
    "errors = 0\n",
    "for i in range(len(predictions)):\n",
    "    if predictions[i] != labels[i]:\n",
    "        errors += 1\n",
    "        print(f\"Predicted as {predictions[i]} when it was {labels[i]}\")\n",
    "errors"
   ]
  },
  {
   "cell_type": "markdown",
   "id": "ddba5377",
   "metadata": {},
   "source": [
    "### Re-load previous preds files"
   ]
  },
  {
   "cell_type": "code",
   "execution_count": null,
   "id": "b58c755c",
   "metadata": {},
   "outputs": [],
   "source": [
    "with open(f'Predictions/{model_name}/s1-column-zero-shot.pkl', \"rb\") as f:\n",
    "    preds = pickle.load(f)"
   ]
  },
  {
   "cell_type": "code",
   "execution_count": null,
   "id": "7ae1da7f",
   "metadata": {},
   "outputs": [],
   "source": []
  }
 ],
 "metadata": {
  "kernelspec": {
   "display_name": "Python 3 (ipykernel)",
   "language": "python",
   "name": "python3"
  },
  "language_info": {
   "codemirror_mode": {
    "name": "ipython",
    "version": 3
   },
   "file_extension": ".py",
   "mimetype": "text/x-python",
   "name": "python",
   "nbconvert_exporter": "python",
   "pygments_lexer": "ipython3",
   "version": "3.8.18"
  }
 },
 "nbformat": 4,
 "nbformat_minor": 5
}
