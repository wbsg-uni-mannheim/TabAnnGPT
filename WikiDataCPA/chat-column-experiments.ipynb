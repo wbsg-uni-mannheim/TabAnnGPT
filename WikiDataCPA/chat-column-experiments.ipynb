{
 "cells": [
  {
   "cell_type": "code",
   "execution_count": 1,
   "id": "307f1685",
   "metadata": {},
   "outputs": [],
   "source": [
    "import os\n",
    "import re\n",
    "import pickle\n",
    "import numpy as np\n",
    "import pandas as pd\n",
    "from dotenv import dotenv_values\n",
    "from langchain import PromptTemplate, LLMChain, OpenAI\n",
    "from langchain.chat_models import ChatOpenAI\n",
    "from langchain.schema import SystemMessage, HumanMessage, AIMessage"
   ]
  },
  {
   "cell_type": "code",
   "execution_count": 3,
   "id": "b3076071",
   "metadata": {},
   "outputs": [],
   "source": [
    "# Load env file with API KEY using full path\n",
    "config = dotenv_values(\"../.env\")\n",
    "os.environ['OPENAI_API_KEY'] = config[\"OPENAI_API_KEY\"]\n",
    "OPENAI_API_KEY = config[\"OPENAI_API_KEY\"]"
   ]
  },
  {
   "cell_type": "code",
   "execution_count": null,
   "id": "806f5b40",
   "metadata": {},
   "outputs": [],
   "source": [
    "labels_to_text = {\n",
    "    \"I dont'know\": \"I dont'know\",\n",
    "    \"addressLocality\": \"locality of address\",\n",
    "    \"postalCode\": \"postal code\",\n",
    "    \"addressRegion\": \"region of address\",\n",
    "    \"Country\": \"country\",\n",
    "    \"priceRange\": \"price range\",\n",
    "    \"Hotel/name\": \"name of hotel\",\n",
    "    \"telephone\": \"telephone\",\n",
    "    \"faxNumber\": \"fax number\",\n",
    "    \"Date\": \"date\",\n",
    "    \"Restaurant/name\": \"name of restaurant\",\n",
    "    \"paymentAccepted\": \"payment accepted\",\n",
    "    \"DayOfWeek\": \"day of week\",\n",
    "    \"Review\": \"review\",\n",
    "    \"Organization\": \"organization\",\n",
    "    \"DateTime\": \"date and time\",\n",
    "    \"MusicAlbum/name\": \"name of music album\",\n",
    "    \"MusicArtistAT\": \"music artist\",\n",
    "    \"MusicRecording/name\": \"name of music recording\",\n",
    "    \"Photograph\": \"photograph\",\n",
    "    \"CoordinateAT\": \"coordinate\",\n",
    "    \"Event/name\": \"name of event\",\n",
    "    \"EventAttendanceModeEnumeration\": \"event attendance mode\",\n",
    "    \"EventStatusType\": \"event status\",\n",
    "    \"currency\": \"currency\",\n",
    "    \"email\": \"email\",\n",
    "    \"Time\": \"time\",\n",
    "    \"LocationFeatureSpecification\": \"location feature\",\n",
    "    \"Duration\": \"duration\",\n",
    "    \"Event/description\": \"description of event\",\n",
    "    \"Restaurant/description\": \"description of restaurant\",\n",
    "    \"Rating\": \"rating\",\n",
    "    \"Hotel/description\": \"description of hotel\"\n",
    "}"
   ]
  },
  {
   "cell_type": "code",
   "execution_count": null,
   "id": "554900cb",
   "metadata": {},
   "outputs": [],
   "source": [
    "# Dictionary to map ChatGPT answers to label set: synonyms can be added here\n",
    "text_to_label = {\n",
    "    \"locality of address\": \"addressLocality\",\n",
    "    \"postal code\": \"postalCode\",\n",
    "    \"region of address\": \"addressRegion\",\n",
    "    \"country\": \"Country\",\n",
    "    \"price range\": \"priceRange\",\n",
    "    \"name of hotel\": \"Hotel/name\",\n",
    "    \"telephone\": \"telephone\",\n",
    "    \"fax number\": \"faxNumber\",\n",
    "    \"date\": \"Date\",\n",
    "    \"name of restaurant\": \"Restaurant/name\",\n",
    "    \"payment accepted\": \"paymentAccepted\",\n",
    "    \"day of week\": \"DayOfWeek\",\n",
    "    \"review\": \"Review\",\n",
    "    \"organization\": \"Organization\",\n",
    "    \"date and time\": \"DateTime\",\n",
    "    \"music artist\": \"MusicArtistAT\",\n",
    "    \"music album\": \"MusicAlbum/name\",\n",
    "    \"name of music recording\": \"MusicRecording/name\",\n",
    "    \"photograph\": \"Photograph\",\n",
    "    \"coordinate\": \"CoordinateAT\",\n",
    "    \"name of event\": \"Event/name\",\n",
    "    \"event attendance mode\": \"EventAttendanceModeEnumeration\",\n",
    "    \"event status\": \"EventStatusType\",\n",
    "    \"currency\": \"currency\",\n",
    "    \"email\": \"email\",\n",
    "    \"time\": \"Time\",\n",
    "    \"location feature\": \"LocationFeatureSpecification\",\n",
    "    \"duration\": \"Duration\",\n",
    "    \"description of event\": \"Event/description\",\n",
    "    \"description of restaurant\": \"Restaurant/description\",\n",
    "    \"description of hotel\": \"Hotel/description\",\n",
    "    \"rating\": \"Rating\",\n",
    "    #Added\n",
    "    \"description of restaurants\": \"Restaurant/description\",\n",
    "    \"name of music artist\": \"MusicArtistAT\",\n",
    "    \"description of hotel amenities\": \"LocationFeatureSpecification\",\n",
    "    \"amenities\": \"LocationFeatureSpecification\",\n",
    "    \"name of album\": \"MusicAlbum/name\",\n",
    "    \"i don't know\": \"-\",\n",
    "    \"name of music album\": \"MusicAlbum/name\",\n",
    "    \"music recording\": \"MusicRecording/name\",\n",
    "    \"event name\": \"Event/name\",\n",
    "    \"description of hotels\": \"Hotel/description\",\n",
    "    \"name of hotels\": \"Hotel/name\",\n",
    "    \"duration of music recording or video\": \"Duration\",\n",
    "    \"name of organization\": \"Organization\",\n",
    "    \"hotel amenities\": \"LocationFeatureSpecification\",\n",
    "    \"amenities of hotel room\": \"LocationFeatureSpecification\",\n",
    "    \"check-in time\": \"Time\",\n",
    "    \"check-out time\": \"Time\",\n",
    "    \"time of check-in\": \"Time\",\n",
    "    \"time of check-out\": \"Time\",\n",
    "    \"hotel features\": \"LocationFeatureSpecification\",\n",
    "    \"name of aparthotel\": \"Hotel/name\",\n",
    "    \"event description\": \"Event/description\",\n",
    "    \"email address\": \"email\",\n",
    "    \"room amenities\": \"LocationFeatureSpecification\",\n",
    "    \"end date\": \"Date\",\n",
    "    \"descriptions of events\": \"Event/description\",\n",
    "    \"mode of attendance\": \"EventAttendanceModeEnumeration\",\n",
    "    \"name of song\": \"MusicRecording/name\"\n",
    "}"
   ]
  },
  {
   "cell_type": "markdown",
   "id": "9359aafc",
   "metadata": {},
   "source": [
    "## Load test (and training) set"
   ]
  },
  {
   "cell_type": "code",
   "execution_count": null,
   "id": "8c7dbc80",
   "metadata": {},
   "outputs": [],
   "source": [
    "with open('data/cta-train-column-wise.pkl', \"rb\") as f:\n",
    "    train = pickle.load(f)\n",
    "with open('data/cta-test-column-wise.pkl', \"rb\") as f:\n",
    "    test = pickle.load(f)\n",
    "\n",
    "examples = [example[3] for example in test ]\n",
    "labels = [example[2] for example in test ]\n",
    "\n",
    "train_examples = [ example[3] for example in train ]\n",
    "train_labels = [ labels_to_text[example[2]] for example in train ]"
   ]
  },
  {
   "cell_type": "code",
   "execution_count": null,
   "id": "d21dc144",
   "metadata": {},
   "outputs": [],
   "source": [
    "print(test[0][1])"
   ]
  },
  {
   "cell_type": "code",
   "execution_count": null,
   "id": "97323576",
   "metadata": {},
   "outputs": [],
   "source": [
    "dfJson = pd.read_json('wiki data/test.table_col_type.json')\n",
    "dfJson"
   ]
  },
  {
   "cell_type": "code",
   "execution_count": null,
   "id": "2cb75337",
   "metadata": {},
   "outputs": [],
   "source": [
    "dfSp = pd.read_json('CPA dataV2/Validation/Book_1carpetcleaning.co.uk_September2020_CPA.json.gz', compression='gzip', lines=True)\n",
    "dfSp"
   ]
  },
  {
   "cell_type": "code",
   "execution_count": null,
   "id": "33fb96ec",
   "metadata": {},
   "outputs": [],
   "source": [
    "chat = ChatOpenAI(openai_api_key=OPENAI_API_KEY, temperature=0, model='gpt-3.5-turbo-0301')"
   ]
  },
  {
   "cell_type": "markdown",
   "id": "f825141f",
   "metadata": {},
   "source": [
    "## Choose setup: zero-shot, one-shot or five-shot"
   ]
  },
  {
   "cell_type": "markdown",
   "id": "7bf6c5d6",
   "metadata": {},
   "source": [
    "e.g. CPA PROMPTS\n"
   ]
  },
  {
   "cell_type": "code",
   "execution_count": null,
   "id": "02b7c3be",
   "metadata": {},
   "outputs": [],
   "source": [
    "labels_joined = \", \".join(list(set(labels)))"
   ]
  },
  {
   "cell_type": "code",
   "execution_count": null,
   "id": "e161c30f",
   "metadata": {},
   "outputs": [],
   "source": [
    "f\"Your task is to classify the relation of the two given columns with only one of the following types that are separated with comma: {labels_joined}\""
   ]
  },
  {
   "cell_type": "code",
   "execution_count": null,
   "id": "665de05e",
   "metadata": {
    "scrolled": true
   },
   "outputs": [],
   "source": [
    "#Zero-shot column + instructions + roles\n",
    "preds = []\n",
    "for example in examples:\n",
    "    messages = []\n",
    "    \n",
    "    #Add system message\n",
    "    messages.append(SystemMessage(content=\"Your task is to classify a given column with only one of the following types that are separated with comma: description of event, description of restaurant, locality of address, postal code, region of address, country, price range, telephone, date, name of restaurant, payment accepted, day of week, review, organization, date and time, coordinate, name of event, event attendance mode, event status, currency, time, description of hotel, name of hotel, location feature, rating, fax number, email, photograph, name of music recording, music artist, name of album, duration.\"))    \n",
    "    messages.append(SystemMessage(content=\"Your instructions are: 1. Look at the column and the types given to you. 2. Examine the values of the column. 3. Select a type that best represents the meaning of the column. 4. Answer with the selected type.\"))\n",
    "    \n",
    "    messages.append(HumanMessage(content=f\"Classify this column: {example}\"))\n",
    "    res = chat(messages)\n",
    "    preds.append(res.content)"
   ]
  },
  {
   "cell_type": "code",
   "execution_count": null,
   "id": "0696427e",
   "metadata": {
    "scrolled": true
   },
   "outputs": [],
   "source": [
    "import random\n",
    "#One-shot column + instructions + roles\n",
    "preds = []\n",
    "for example in examples:\n",
    "    messages = []\n",
    "    \n",
    "    #Add system message\n",
    "    messages.append(SystemMessage(content=\"Your task is to classify a given column with only one of the following types that are separated with comma: description of event, description of restaurant, locality of address, postal code, region of address, country, price range, telephone, date, name of restaurant, payment accepted, day of week, review, organization, date and time, coordinate, name of event, event attendance mode, event status, currency, time, description of hotel, name of hotel, location feature, rating, fax number, email, photograph, name of music recording, music artist, name of album, duration.\"))    \n",
    "    messages.append(SystemMessage(content=\"Your instructions are: 1. Look at the column and the types given to you. 2. Examine the values of the column. 3. Select a type that best represents the meaning of the column. 4. Answer with the selected type.\"))\n",
    "\n",
    "    #One random example from the training set\n",
    "    index = random.randint(0, len(train_examples)-1)\n",
    "    messages.append(HumanMessage(content=f\"Classify this column: {train_examples[index]}\"))\n",
    "    messages.append(AIMessage(content=f\"{train_labels[index]}\"))\n",
    "    \n",
    "    messages.append(HumanMessage(content=f\"Classify this column: {example}\"))\n",
    "    res = chat(messages)\n",
    "    preds.append(res.content)"
   ]
  },
  {
   "cell_type": "code",
   "execution_count": null,
   "id": "670444d1",
   "metadata": {
    "scrolled": true
   },
   "outputs": [],
   "source": [
    "import random\n",
    "#Five-shot column + instructions + roles\n",
    "preds = []\n",
    "for example in examples:\n",
    "    messages = []\n",
    "    \n",
    "    #Add system message\n",
    "    messages.append(SystemMessage(content=\"Your task is to classify a given column with only one of the following types that are separated with comma: description of event, description of restaurant, locality of address, postal code, region of address, country, price range, telephone, date, name of restaurant, payment accepted, day of week, review, organization, date and time, coordinate, name of event, event attendance mode, event status, currency, time, description of hotel, name of hotel, location feature, rating, fax number, email, photograph, name of music recording, music artist, name of album, duration.\"))    \n",
    "    messages.append(SystemMessage(content=\"Your instructions are: 1. Look at the column and the types given to you. 2. Examine the values of the column. 3. Select a type that best represents the meaning of the column. 4. Answer with the selected type.\"))\n",
    "    \n",
    "    #Add 5 random examples\n",
    "    for i in range(0,5):\n",
    "        index = random.randint(0, len(train_examples)-1)\n",
    "        messages.append(HumanMessage(content=f\"Classify this column: {train_examples[index]}\"))\n",
    "        messages.append(AIMessage(content=f\"{train_labels[index]}\"))\n",
    "    \n",
    "    messages.append(HumanMessage(content=f\"Classify this column: {example}\"))\n",
    "    res = chat(messages)\n",
    "    preds.append(res.content)"
   ]
  },
  {
   "cell_type": "code",
   "execution_count": null,
   "id": "21b93a31",
   "metadata": {},
   "outputs": [],
   "source": [
    "preds[:10]"
   ]
  },
  {
   "cell_type": "code",
   "execution_count": null,
   "id": "8c15c770",
   "metadata": {},
   "outputs": [],
   "source": [
    "#Save predictions in a file:\n",
    "file_name='predictions/chat-column-zero-shot.pkl'\n",
    "f = open(file_name,'wb')\n",
    "pickle.dump(preds,f)\n",
    "f.close()"
   ]
  },
  {
   "cell_type": "markdown",
   "id": "4cd98cab",
   "metadata": {},
   "source": [
    "## Evaluation"
   ]
  },
  {
   "cell_type": "code",
   "execution_count": null,
   "id": "af221a94",
   "metadata": {
    "scrolled": true
   },
   "outputs": [],
   "source": [
    "predictions = []\n",
    "for i, pred in enumerate(preds):\n",
    "    from_sent = re.findall('\"([^\"]*)\"',pred)\n",
    "    if len(from_sent) == 0:\n",
    "        if \":\" in pred:\n",
    "            pred = pred.split(':')[1]\n",
    "        if \".\" in pred:\n",
    "            pred = pred.split('.')[0]\n",
    "        pred = pred.strip().lower()\n",
    "        \n",
    "        if pred in text_to_label:\n",
    "            predictions.append(text_to_label[pred])\n",
    "        else:\n",
    "            if any(label in pred for label in text_to_label):\n",
    "                for label in text_to_label:\n",
    "                    if label in pred:\n",
    "                        predictions.append(text_to_label[label])\n",
    "                        break\n",
    "            else:\n",
    "                print(f\"For test example {i} out of label space prediction: {pred}\")\n",
    "                predictions.append('-')\n",
    "\n",
    "    # If predictions is between quotation marks \"\"\n",
    "    else:\n",
    "        if from_sent[0].lower() in text_to_label:\n",
    "            predictions.append(text_to_label[from_sent[0].lower()])\n",
    "        else:\n",
    "            print(f\"For test example {i} out of label space prediction: {pred}\")\n",
    "            predictions.append('-')"
   ]
  },
  {
   "cell_type": "markdown",
   "id": "0ebaf233",
   "metadata": {},
   "source": [
    "### Calculate Precision, Recall, Macro-F1 and Micro-F1"
   ]
  },
  {
   "cell_type": "code",
   "execution_count": null,
   "id": "2b13cebb",
   "metadata": {},
   "outputs": [],
   "source": [
    "import types\n",
    "\n",
    "\n",
    "def calculate_f1_scores(y_tests, y_preds, num_classes):\n",
    "    \n",
    "    y_tests = [types.index(y) for y in y_tests]\n",
    "    y_preds = [types.index(y) for y in y_preds]\n",
    "    \n",
    "    #Confusion matrix\n",
    "    cm = np.zeros(shape=(num_classes,num_classes))\n",
    "    \n",
    "    for i in range(len(y_tests)):\n",
    "        cm[y_preds[i]][y_tests[i]] += 1\n",
    "        \n",
    "    report = {}\n",
    "    \n",
    "    for j in range(len(cm[0])):\n",
    "        report[j] = {}\n",
    "        report[j]['FN'] = 0\n",
    "        report[j]['FP'] = 0\n",
    "        report[j]['TP'] = cm[j][j]\n",
    "\n",
    "        for i in range(len(cm)):\n",
    "            if i != j:\n",
    "                report[j]['FN'] += cm[i][j]\n",
    "        for k in range(len(cm[0])):\n",
    "            if k != j:\n",
    "                report[j]['FP'] += cm[j][k]\n",
    "\n",
    "        precision = report[j]['TP'] / (report[j]['TP'] + report[j]['FP'])\n",
    "        recall = report[j]['TP'] / (report[j]['TP'] + report[j]['FN'])\n",
    "        f1 = 2*precision*recall / (precision + recall)\n",
    "        \n",
    "        if np.isnan(f1):\n",
    "            f1 = 0\n",
    "        if np.isnan(precision):\n",
    "            f1 = 0\n",
    "        if np.isnan(recall):\n",
    "            f1 = 0\n",
    "\n",
    "        report[j]['p'] =  precision\n",
    "        report[j]['r'] =  recall\n",
    "        report[j]['f1'] = f1\n",
    "    \n",
    "    all_fn = 0\n",
    "    all_tp = 0\n",
    "    all_fp = 0\n",
    "\n",
    "    for r in report:\n",
    "        if r != num_classes-1:\n",
    "            all_fn += report[r]['FN']\n",
    "            all_tp += report[r]['TP']\n",
    "            all_fp += report[r]['FP']\n",
    "        \n",
    "    class_f1s = [ report[class_]['f1'] for class_ in report]\n",
    "    class_p = [ 0 if np.isnan(report[class_]['p']) else report[class_]['p'] for class_ in report]\n",
    "    class_r = [ 0 if np.isnan(report[class_]['r']) else report[class_]['r'] for class_ in report]\n",
    "    macro_f1 = sum(class_f1s[:-1]) / (num_classes-1)\n",
    "    \n",
    "    p =  sum(class_p[:-1]) / (num_classes-1)\n",
    "    r =  sum(class_r[:-1]) / (num_classes-1)\n",
    "    micro_f1 = all_tp / ( all_tp + (1/2 * (all_fp + all_fn) )) \n",
    "    \n",
    "    per_class_eval = {}\n",
    "    for index, t in enumerate(types[:-1]):\n",
    "        per_class_eval[t] = {\"Precision\":class_p[index], \"Recall\": class_r[index], \"F1\": class_f1s[index]}\n",
    "    \n",
    "    evaluation = {\n",
    "        \"Micro-F1\": micro_f1,\n",
    "        \"Macro-F1\": macro_f1,\n",
    "        \"Precision\": p,\n",
    "        \"Recall\": r\n",
    "    }\n",
    "    \n",
    "    return [ evaluation, per_class_eval]"
   ]
  },
  {
   "cell_type": "code",
   "execution_count": null,
   "id": "2b214bd0",
   "metadata": {
    "scrolled": true
   },
   "outputs": [],
   "source": [
    "types = list(set(labels))\n",
    "types = types + [\"-\"]\n",
    "evaluation, per_class_eval = calculate_f1_scores(labels, predictions, 33)"
   ]
  },
  {
   "cell_type": "code",
   "execution_count": null,
   "id": "91e6e35d",
   "metadata": {},
   "outputs": [],
   "source": [
    "evaluation"
   ]
  },
  {
   "cell_type": "code",
   "execution_count": null,
   "id": "770bbcaf",
   "metadata": {
    "scrolled": true
   },
   "outputs": [],
   "source": [
    "per_class_eval"
   ]
  },
  {
   "cell_type": "markdown",
   "id": "35074db1",
   "metadata": {},
   "source": [
    "## Error Analysis"
   ]
  },
  {
   "cell_type": "code",
   "execution_count": null,
   "id": "960b5c02",
   "metadata": {},
   "outputs": [],
   "source": [
    "# \"-\" means the model replied with out of label or with I don't know\n",
    "errors = 0\n",
    "for i in range(len(predictions)):\n",
    "    if predictions[i] != labels[i]:\n",
    "        errors += 1\n",
    "        print(f\"Predicted as {predictions[i]} when it was {labels[i]}\")\n",
    "errors"
   ]
  },
  {
   "cell_type": "markdown",
   "id": "ddba5377",
   "metadata": {},
   "source": [
    "### Re-load previous preds files"
   ]
  },
  {
   "cell_type": "code",
   "execution_count": null,
   "id": "b58c755c",
   "metadata": {},
   "outputs": [],
   "source": [
    "with open('predictions/chat-column-five-shot.pkl', \"rb\") as f:\n",
    "    preds = pickle.load(f)"
   ]
  },
  {
   "cell_type": "code",
   "execution_count": null,
   "id": "7ae1da7f",
   "metadata": {},
   "outputs": [],
   "source": []
  }
 ],
 "metadata": {
  "kernelspec": {
   "display_name": "Python 3 (ipykernel)",
   "language": "python",
   "name": "python3"
  },
  "language_info": {
   "codemirror_mode": {
    "name": "ipython",
    "version": 3
   },
   "file_extension": ".py",
   "mimetype": "text/x-python",
   "name": "python",
   "nbconvert_exporter": "python",
   "pygments_lexer": "ipython3",
   "version": "3.8.18"
  }
 },
 "nbformat": 4,
 "nbformat_minor": 5
}
